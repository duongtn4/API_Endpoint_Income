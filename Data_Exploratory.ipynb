{
 "cells": [
  {
   "cell_type": "markdown",
   "id": "d27aad33",
   "metadata": {},
   "source": [
    "# TAKE HOME ASSIGNMENT"
   ]
  },
  {
   "cell_type": "code",
   "execution_count": 1,
   "id": "a1438e49",
   "metadata": {},
   "outputs": [],
   "source": [
    "import numpy as np\n",
    "import pandas as pd\n",
    "import matplotlib.pyplot as plt\n",
    "import seaborn as sns\n",
    "import os\n",
    "from sklearn import preprocessing\n",
    "from sklearn.preprocessing import StandardScaler\n",
    "from sklearn.ensemble import RandomForestClassifier\n",
    "from sklearn.metrics import classification_report, confusion_matrix, accuracy_score, roc_curve\n",
    "from sklearn.linear_model import LogisticRegression\n",
    "import statsmodels.api as sm"
   ]
  },
  {
   "cell_type": "code",
   "execution_count": 2,
   "id": "d33dea4b",
   "metadata": {},
   "outputs": [],
   "source": [
    "os.chdir(r\"C:\\Users\\thuyd\\OneDrive\\Documents\\Sally\\Take_Home_Assignment\")"
   ]
  },
  {
   "cell_type": "markdown",
   "id": "611ad756",
   "metadata": {},
   "source": [
    "##  A) ML MODELS"
   ]
  },
  {
   "cell_type": "markdown",
   "id": "3a6d2f56",
   "metadata": {},
   "source": [
    "### DATA CLEANING AND PRE-PROCESSING"
   ]
  },
  {
   "cell_type": "code",
   "execution_count": 3,
   "id": "46b5bf29",
   "metadata": {
    "scrolled": true
   },
   "outputs": [
    {
     "name": "stdout",
     "output_type": "stream",
     "text": [
      "32560\n"
     ]
    }
   ],
   "source": [
    "df_train = pd.read_csv('adult_trdata.csv')\n",
    "df_test = pd.read_csv('adult_test.csv')\n",
    "df_train.head()\n",
    "\n",
    "#changing columns names on train\n",
    "\n",
    "df_train.columns = ['age', 'workclass', 'fnlwgt', 'education', 'education_yrs', 'marital_stat', 'occupation', 'relationship', 'race', 'sex', 'capital_gain', 'capital_loss', 'hours_per_week', 'native_country', 'income']\n",
    "df_train.head()\n",
    "print(df_train.shape[0])"
   ]
  },
  {
   "cell_type": "code",
   "execution_count": 4,
   "id": "5cf5e336",
   "metadata": {},
   "outputs": [
    {
     "data": {
      "text/html": [
       "<div>\n",
       "<style scoped>\n",
       "    .dataframe tbody tr th:only-of-type {\n",
       "        vertical-align: middle;\n",
       "    }\n",
       "\n",
       "    .dataframe tbody tr th {\n",
       "        vertical-align: top;\n",
       "    }\n",
       "\n",
       "    .dataframe thead th {\n",
       "        text-align: right;\n",
       "    }\n",
       "</style>\n",
       "<table border=\"1\" class=\"dataframe\">\n",
       "  <thead>\n",
       "    <tr style=\"text-align: right;\">\n",
       "      <th></th>\n",
       "      <th>age</th>\n",
       "      <th>workclass</th>\n",
       "      <th>fnlwgt</th>\n",
       "      <th>education</th>\n",
       "      <th>education_yrs</th>\n",
       "      <th>marital_stat</th>\n",
       "      <th>occupation</th>\n",
       "      <th>relationship</th>\n",
       "      <th>race</th>\n",
       "      <th>sex</th>\n",
       "      <th>capital_gain</th>\n",
       "      <th>capital_loss</th>\n",
       "      <th>hours_per_week</th>\n",
       "      <th>native_country</th>\n",
       "      <th>income</th>\n",
       "    </tr>\n",
       "  </thead>\n",
       "  <tbody>\n",
       "    <tr>\n",
       "      <th>0</th>\n",
       "      <td>50</td>\n",
       "      <td>Self-emp-not-inc</td>\n",
       "      <td>83311</td>\n",
       "      <td>Bachelors</td>\n",
       "      <td>13</td>\n",
       "      <td>Married-civ-spouse</td>\n",
       "      <td>Exec-managerial</td>\n",
       "      <td>Husband</td>\n",
       "      <td>White</td>\n",
       "      <td>Male</td>\n",
       "      <td>0</td>\n",
       "      <td>0</td>\n",
       "      <td>13</td>\n",
       "      <td>United-States</td>\n",
       "      <td>&lt;=50K</td>\n",
       "    </tr>\n",
       "    <tr>\n",
       "      <th>1</th>\n",
       "      <td>38</td>\n",
       "      <td>Private</td>\n",
       "      <td>215646</td>\n",
       "      <td>HS-grad</td>\n",
       "      <td>9</td>\n",
       "      <td>Divorced</td>\n",
       "      <td>Handlers-cleaners</td>\n",
       "      <td>Not-in-family</td>\n",
       "      <td>White</td>\n",
       "      <td>Male</td>\n",
       "      <td>0</td>\n",
       "      <td>0</td>\n",
       "      <td>40</td>\n",
       "      <td>United-States</td>\n",
       "      <td>&lt;=50K</td>\n",
       "    </tr>\n",
       "    <tr>\n",
       "      <th>2</th>\n",
       "      <td>53</td>\n",
       "      <td>Private</td>\n",
       "      <td>234721</td>\n",
       "      <td>11th</td>\n",
       "      <td>7</td>\n",
       "      <td>Married-civ-spouse</td>\n",
       "      <td>Handlers-cleaners</td>\n",
       "      <td>Husband</td>\n",
       "      <td>Black</td>\n",
       "      <td>Male</td>\n",
       "      <td>0</td>\n",
       "      <td>0</td>\n",
       "      <td>40</td>\n",
       "      <td>United-States</td>\n",
       "      <td>&lt;=50K</td>\n",
       "    </tr>\n",
       "    <tr>\n",
       "      <th>3</th>\n",
       "      <td>28</td>\n",
       "      <td>Private</td>\n",
       "      <td>338409</td>\n",
       "      <td>Bachelors</td>\n",
       "      <td>13</td>\n",
       "      <td>Married-civ-spouse</td>\n",
       "      <td>Prof-specialty</td>\n",
       "      <td>Wife</td>\n",
       "      <td>Black</td>\n",
       "      <td>Female</td>\n",
       "      <td>0</td>\n",
       "      <td>0</td>\n",
       "      <td>40</td>\n",
       "      <td>Cuba</td>\n",
       "      <td>&lt;=50K</td>\n",
       "    </tr>\n",
       "    <tr>\n",
       "      <th>4</th>\n",
       "      <td>37</td>\n",
       "      <td>Private</td>\n",
       "      <td>284582</td>\n",
       "      <td>Masters</td>\n",
       "      <td>14</td>\n",
       "      <td>Married-civ-spouse</td>\n",
       "      <td>Exec-managerial</td>\n",
       "      <td>Wife</td>\n",
       "      <td>White</td>\n",
       "      <td>Female</td>\n",
       "      <td>0</td>\n",
       "      <td>0</td>\n",
       "      <td>40</td>\n",
       "      <td>United-States</td>\n",
       "      <td>&lt;=50K</td>\n",
       "    </tr>\n",
       "  </tbody>\n",
       "</table>\n",
       "</div>"
      ],
      "text/plain": [
       "   age          workclass  fnlwgt   education  education_yrs  \\\n",
       "0   50   Self-emp-not-inc   83311   Bachelors             13   \n",
       "1   38            Private  215646     HS-grad              9   \n",
       "2   53            Private  234721        11th              7   \n",
       "3   28            Private  338409   Bachelors             13   \n",
       "4   37            Private  284582     Masters             14   \n",
       "\n",
       "          marital_stat          occupation    relationship    race      sex  \\\n",
       "0   Married-civ-spouse     Exec-managerial         Husband   White     Male   \n",
       "1             Divorced   Handlers-cleaners   Not-in-family   White     Male   \n",
       "2   Married-civ-spouse   Handlers-cleaners         Husband   Black     Male   \n",
       "3   Married-civ-spouse      Prof-specialty            Wife   Black   Female   \n",
       "4   Married-civ-spouse     Exec-managerial            Wife   White   Female   \n",
       "\n",
       "   capital_gain  capital_loss  hours_per_week  native_country  income  \n",
       "0             0             0              13   United-States   <=50K  \n",
       "1             0             0              40   United-States   <=50K  \n",
       "2             0             0              40   United-States   <=50K  \n",
       "3             0             0              40            Cuba   <=50K  \n",
       "4             0             0              40   United-States   <=50K  "
      ]
     },
     "execution_count": 4,
     "metadata": {},
     "output_type": "execute_result"
    }
   ],
   "source": [
    "df_train.head()"
   ]
  },
  {
   "cell_type": "code",
   "execution_count": 5,
   "id": "812a4b43",
   "metadata": {},
   "outputs": [],
   "source": [
    "df_test.reset_index(inplace=True)"
   ]
  },
  {
   "cell_type": "code",
   "execution_count": 6,
   "id": "d3ddd752",
   "metadata": {},
   "outputs": [
    {
     "data": {
      "text/html": [
       "<div>\n",
       "<style scoped>\n",
       "    .dataframe tbody tr th:only-of-type {\n",
       "        vertical-align: middle;\n",
       "    }\n",
       "\n",
       "    .dataframe tbody tr th {\n",
       "        vertical-align: top;\n",
       "    }\n",
       "\n",
       "    .dataframe thead th {\n",
       "        text-align: right;\n",
       "    }\n",
       "</style>\n",
       "<table border=\"1\" class=\"dataframe\">\n",
       "  <thead>\n",
       "    <tr style=\"text-align: right;\">\n",
       "      <th></th>\n",
       "      <th>age</th>\n",
       "      <th>workclass</th>\n",
       "      <th>fnlwgt</th>\n",
       "      <th>education</th>\n",
       "      <th>education_yrs</th>\n",
       "      <th>marital_stat</th>\n",
       "      <th>occupation</th>\n",
       "      <th>relationship</th>\n",
       "      <th>race</th>\n",
       "      <th>sex</th>\n",
       "      <th>capital_gain</th>\n",
       "      <th>capital_loss</th>\n",
       "      <th>hours_per_week</th>\n",
       "      <th>native_country</th>\n",
       "      <th>income</th>\n",
       "    </tr>\n",
       "  </thead>\n",
       "  <tbody>\n",
       "    <tr>\n",
       "      <th>0</th>\n",
       "      <td>25</td>\n",
       "      <td>Private</td>\n",
       "      <td>226802</td>\n",
       "      <td>11th</td>\n",
       "      <td>7</td>\n",
       "      <td>Never-married</td>\n",
       "      <td>Machine-op-inspct</td>\n",
       "      <td>Own-child</td>\n",
       "      <td>Black</td>\n",
       "      <td>Male</td>\n",
       "      <td>0</td>\n",
       "      <td>0</td>\n",
       "      <td>40</td>\n",
       "      <td>United-States</td>\n",
       "      <td>&lt;=50K.</td>\n",
       "    </tr>\n",
       "    <tr>\n",
       "      <th>1</th>\n",
       "      <td>38</td>\n",
       "      <td>Private</td>\n",
       "      <td>89814</td>\n",
       "      <td>HS-grad</td>\n",
       "      <td>9</td>\n",
       "      <td>Married-civ-spouse</td>\n",
       "      <td>Farming-fishing</td>\n",
       "      <td>Husband</td>\n",
       "      <td>White</td>\n",
       "      <td>Male</td>\n",
       "      <td>0</td>\n",
       "      <td>0</td>\n",
       "      <td>50</td>\n",
       "      <td>United-States</td>\n",
       "      <td>&lt;=50K.</td>\n",
       "    </tr>\n",
       "    <tr>\n",
       "      <th>2</th>\n",
       "      <td>28</td>\n",
       "      <td>Local-gov</td>\n",
       "      <td>336951</td>\n",
       "      <td>Assoc-acdm</td>\n",
       "      <td>12</td>\n",
       "      <td>Married-civ-spouse</td>\n",
       "      <td>Protective-serv</td>\n",
       "      <td>Husband</td>\n",
       "      <td>White</td>\n",
       "      <td>Male</td>\n",
       "      <td>0</td>\n",
       "      <td>0</td>\n",
       "      <td>40</td>\n",
       "      <td>United-States</td>\n",
       "      <td>&gt;50K.</td>\n",
       "    </tr>\n",
       "    <tr>\n",
       "      <th>3</th>\n",
       "      <td>44</td>\n",
       "      <td>Private</td>\n",
       "      <td>160323</td>\n",
       "      <td>Some-college</td>\n",
       "      <td>10</td>\n",
       "      <td>Married-civ-spouse</td>\n",
       "      <td>Machine-op-inspct</td>\n",
       "      <td>Husband</td>\n",
       "      <td>Black</td>\n",
       "      <td>Male</td>\n",
       "      <td>7688</td>\n",
       "      <td>0</td>\n",
       "      <td>40</td>\n",
       "      <td>United-States</td>\n",
       "      <td>&gt;50K.</td>\n",
       "    </tr>\n",
       "    <tr>\n",
       "      <th>4</th>\n",
       "      <td>18</td>\n",
       "      <td>?</td>\n",
       "      <td>103497</td>\n",
       "      <td>Some-college</td>\n",
       "      <td>10</td>\n",
       "      <td>Never-married</td>\n",
       "      <td>?</td>\n",
       "      <td>Own-child</td>\n",
       "      <td>White</td>\n",
       "      <td>Female</td>\n",
       "      <td>0</td>\n",
       "      <td>0</td>\n",
       "      <td>30</td>\n",
       "      <td>United-States</td>\n",
       "      <td>&lt;=50K.</td>\n",
       "    </tr>\n",
       "  </tbody>\n",
       "</table>\n",
       "</div>"
      ],
      "text/plain": [
       "   age   workclass  fnlwgt      education  education_yrs         marital_stat  \\\n",
       "0   25     Private  226802           11th              7        Never-married   \n",
       "1   38     Private   89814        HS-grad              9   Married-civ-spouse   \n",
       "2   28   Local-gov  336951     Assoc-acdm             12   Married-civ-spouse   \n",
       "3   44     Private  160323   Some-college             10   Married-civ-spouse   \n",
       "4   18           ?  103497   Some-college             10        Never-married   \n",
       "\n",
       "           occupation relationship    race      sex  capital_gain  \\\n",
       "0   Machine-op-inspct    Own-child   Black     Male             0   \n",
       "1     Farming-fishing      Husband   White     Male             0   \n",
       "2     Protective-serv      Husband   White     Male             0   \n",
       "3   Machine-op-inspct      Husband   Black     Male          7688   \n",
       "4                   ?    Own-child   White   Female             0   \n",
       "\n",
       "   capital_loss  hours_per_week  native_country   income  \n",
       "0             0              40   United-States   <=50K.  \n",
       "1             0              50   United-States   <=50K.  \n",
       "2             0              40   United-States    >50K.  \n",
       "3             0              40   United-States    >50K.  \n",
       "4             0              30   United-States   <=50K.  "
      ]
     },
     "execution_count": 6,
     "metadata": {},
     "output_type": "execute_result"
    }
   ],
   "source": [
    "#changing columns names on test\n",
    "\n",
    "df_test.columns = ['age', 'workclass', 'fnlwgt', 'education', 'education_yrs', 'marital_stat', 'occupation', 'relationship', 'race', 'sex', 'capital_gain', 'capital_loss', 'hours_per_week', 'native_country', 'income']\n",
    "df_test.head()"
   ]
  },
  {
   "cell_type": "code",
   "execution_count": 7,
   "id": "a21f035f",
   "metadata": {},
   "outputs": [
    {
     "data": {
      "text/html": [
       "<div>\n",
       "<style scoped>\n",
       "    .dataframe tbody tr th:only-of-type {\n",
       "        vertical-align: middle;\n",
       "    }\n",
       "\n",
       "    .dataframe tbody tr th {\n",
       "        vertical-align: top;\n",
       "    }\n",
       "\n",
       "    .dataframe thead th {\n",
       "        text-align: right;\n",
       "    }\n",
       "</style>\n",
       "<table border=\"1\" class=\"dataframe\">\n",
       "  <thead>\n",
       "    <tr style=\"text-align: right;\">\n",
       "      <th></th>\n",
       "      <th>age</th>\n",
       "      <th>workclass</th>\n",
       "      <th>fnlwgt</th>\n",
       "      <th>education</th>\n",
       "      <th>education_yrs</th>\n",
       "      <th>marital_stat</th>\n",
       "      <th>occupation</th>\n",
       "      <th>relationship</th>\n",
       "      <th>race</th>\n",
       "      <th>sex</th>\n",
       "      <th>capital_gain</th>\n",
       "      <th>capital_loss</th>\n",
       "      <th>hours_per_week</th>\n",
       "      <th>native_country</th>\n",
       "      <th>income</th>\n",
       "    </tr>\n",
       "  </thead>\n",
       "  <tbody>\n",
       "    <tr>\n",
       "      <th>0</th>\n",
       "      <td>50</td>\n",
       "      <td>Self-Employed</td>\n",
       "      <td>83311</td>\n",
       "      <td>Bachelors</td>\n",
       "      <td>13</td>\n",
       "      <td>Married</td>\n",
       "      <td>Exec-managerial</td>\n",
       "      <td>Husband</td>\n",
       "      <td>White</td>\n",
       "      <td>Male</td>\n",
       "      <td>0</td>\n",
       "      <td>0</td>\n",
       "      <td>13</td>\n",
       "      <td>United-States</td>\n",
       "      <td>&lt;=50K</td>\n",
       "    </tr>\n",
       "    <tr>\n",
       "      <th>1</th>\n",
       "      <td>38</td>\n",
       "      <td>Private</td>\n",
       "      <td>215646</td>\n",
       "      <td>High-School</td>\n",
       "      <td>9</td>\n",
       "      <td>Single</td>\n",
       "      <td>Handlers-cleaners</td>\n",
       "      <td>Not-in-family</td>\n",
       "      <td>White</td>\n",
       "      <td>Male</td>\n",
       "      <td>0</td>\n",
       "      <td>0</td>\n",
       "      <td>40</td>\n",
       "      <td>United-States</td>\n",
       "      <td>&lt;=50K</td>\n",
       "    </tr>\n",
       "    <tr>\n",
       "      <th>2</th>\n",
       "      <td>53</td>\n",
       "      <td>Private</td>\n",
       "      <td>234721</td>\n",
       "      <td>High-School</td>\n",
       "      <td>7</td>\n",
       "      <td>Married</td>\n",
       "      <td>Handlers-cleaners</td>\n",
       "      <td>Husband</td>\n",
       "      <td>Black</td>\n",
       "      <td>Male</td>\n",
       "      <td>0</td>\n",
       "      <td>0</td>\n",
       "      <td>40</td>\n",
       "      <td>United-States</td>\n",
       "      <td>&lt;=50K</td>\n",
       "    </tr>\n",
       "    <tr>\n",
       "      <th>3</th>\n",
       "      <td>28</td>\n",
       "      <td>Private</td>\n",
       "      <td>338409</td>\n",
       "      <td>Bachelors</td>\n",
       "      <td>13</td>\n",
       "      <td>Married</td>\n",
       "      <td>Prof-specialty</td>\n",
       "      <td>Wife</td>\n",
       "      <td>Black</td>\n",
       "      <td>Female</td>\n",
       "      <td>0</td>\n",
       "      <td>0</td>\n",
       "      <td>40</td>\n",
       "      <td>Cuba</td>\n",
       "      <td>&lt;=50K</td>\n",
       "    </tr>\n",
       "    <tr>\n",
       "      <th>4</th>\n",
       "      <td>37</td>\n",
       "      <td>Private</td>\n",
       "      <td>284582</td>\n",
       "      <td>Advanced</td>\n",
       "      <td>14</td>\n",
       "      <td>Married</td>\n",
       "      <td>Exec-managerial</td>\n",
       "      <td>Wife</td>\n",
       "      <td>White</td>\n",
       "      <td>Female</td>\n",
       "      <td>0</td>\n",
       "      <td>0</td>\n",
       "      <td>40</td>\n",
       "      <td>United-States</td>\n",
       "      <td>&lt;=50K</td>\n",
       "    </tr>\n",
       "  </tbody>\n",
       "</table>\n",
       "</div>"
      ],
      "text/plain": [
       "   age       workclass  fnlwgt     education  education_yrs marital_stat  \\\n",
       "0   50   Self-Employed   83311     Bachelors             13      Married   \n",
       "1   38         Private  215646   High-School              9       Single   \n",
       "2   53         Private  234721   High-School              7      Married   \n",
       "3   28         Private  338409     Bachelors             13      Married   \n",
       "4   37         Private  284582      Advanced             14      Married   \n",
       "\n",
       "           occupation    relationship    race      sex  capital_gain  \\\n",
       "0     Exec-managerial         Husband   White     Male             0   \n",
       "1   Handlers-cleaners   Not-in-family   White     Male             0   \n",
       "2   Handlers-cleaners         Husband   Black     Male             0   \n",
       "3      Prof-specialty            Wife   Black   Female             0   \n",
       "4     Exec-managerial            Wife   White   Female             0   \n",
       "\n",
       "   capital_loss  hours_per_week  native_country  income  \n",
       "0             0              13   United-States   <=50K  \n",
       "1             0              40   United-States   <=50K  \n",
       "2             0              40   United-States   <=50K  \n",
       "3             0              40            Cuba   <=50K  \n",
       "4             0              40   United-States   <=50K  "
      ]
     },
     "execution_count": 7,
     "metadata": {},
     "output_type": "execute_result"
    }
   ],
   "source": [
    "#Replacing data in train dataset\n",
    "\n",
    "df_train['education'] = df_train['education'].replace({'Preschool','1st-4th','5th-6th', '7th-8th'}, 'Elementary/Secondary', regex=True)\n",
    "df_train['education'] = df_train['education'].replace({'9th','10th', '11th', '12th', 'HS-grad'}, 'High-School', regex=True)\n",
    "df_train['education'] = df_train['education'].replace({'Masters', 'Doctorate'}, 'Advanced', regex=True)\n",
    "df_train['education'] = df_train['education'].replace({'Prof-school', 'Assoc-acdm', 'Assoc-voc'}, 'Professional-School', regex=True)\n",
    "\n",
    "df_train['workclass'] = df_train['workclass'].replace({'Self-emp-inc', 'Self-emp-not-inc'}, 'Self-Employed', regex=True)\n",
    "df_train['workclass'] = df_train['workclass'].replace({'Local-gov', 'State-gov', 'Federal-gov'}, 'Gov-job', regex=True)\n",
    "df_train['workclass'] = df_train['workclass'].replace({'Without-pay','Never-worked'}, 'Unemployed', regex=True)\n",
    "\n",
    "df_train['marital_stat'] = df_train['marital_stat'].replace({'Never-married','Divorced', 'Separated', 'Widowed'}, 'Single', regex=True)\n",
    "df_train['marital_stat'] = df_train['marital_stat'].replace({'Married-civ-spouse','Married-spouse-absent','Married-AF-spouse'}, 'Married', regex=True)\n",
    "df_train.head()"
   ]
  },
  {
   "cell_type": "code",
   "execution_count": 8,
   "id": "1345f7c4",
   "metadata": {},
   "outputs": [],
   "source": [
    "#Replacing data in test dataset\n",
    "\n",
    "df_test['education'] = df_test['education'].replace({'Preschool','1st-4th','5th-6th', '7th-8th'}, 'Elementary/Secondary', regex=True)\n",
    "df_test['education'] = df_test['education'].replace({'9th','10th', '11th', '12th', 'HS-grad'}, 'High-School', regex=True)\n",
    "df_test['education'] = df_test['education'].replace({'Masters', 'Doctorate'}, 'Advanced', regex=True)\n",
    "df_test['education'] = df_test['education'].replace({'Prof-school', 'Assoc-acdm', 'Assoc-voc'}, 'Professional-School', regex=True)\n",
    "\n",
    "df_test['workclass'] = df_test['workclass'].replace({'Self-emp-inc', 'Self-emp-not-inc'}, 'Self-Employed', regex=True)\n",
    "df_test['workclass'] = df_test['workclass'].replace({'Local-gov', 'State-gov', 'Federal-gov'}, 'Gov-job', regex=True)\n",
    "df_test['workclass'] = df_test['workclass'].replace({'Without-pay','Never-worked'}, 'Unemployed', regex=True)\n",
    "\n",
    "df_test['marital_stat'] = df_test['marital_stat'].replace({'Never-married','Divorced', 'Separated', 'Widowed'}, 'Single', regex=True)\n",
    "df_test['marital_stat'] = df_test['marital_stat'].replace({'Married-civ-spouse','Married-spouse-absent','Married-AF-spouse'}, 'Married', regex=True)\n"
   ]
  },
  {
   "cell_type": "code",
   "execution_count": 9,
   "id": "f00fe731",
   "metadata": {},
   "outputs": [
    {
     "data": {
      "text/plain": [
       "age               0\n",
       "workclass         0\n",
       "fnlwgt            0\n",
       "education         0\n",
       "education_yrs     0\n",
       "marital_stat      0\n",
       "occupation        0\n",
       "relationship      0\n",
       "race              0\n",
       "sex               0\n",
       "capital_gain      0\n",
       "capital_loss      0\n",
       "hours_per_week    0\n",
       "native_country    0\n",
       "income            0\n",
       "dtype: int64"
      ]
     },
     "execution_count": 9,
     "metadata": {},
     "output_type": "execute_result"
    }
   ],
   "source": [
    "# Checking NA values\n",
    "\n",
    "np.sum(df_train.isna())\n",
    "np.sum(df_test.isna())\n",
    "\n",
    "# No NA in both train and test"
   ]
  },
  {
   "cell_type": "code",
   "execution_count": 10,
   "id": "a8a81f11",
   "metadata": {},
   "outputs": [],
   "source": [
    "#Convert <=50k to 0 and >50k to 1\n",
    "\n",
    "df_train['income'] = df_train['income'].replace({'<=50K'}, 0, regex=True)\n",
    "df_train['income'] = df_train['income'].replace({'>50K'}, 1, regex=True)\n",
    "df_test['income'] = df_test['income'].replace({'<=50K'}, 0, regex=True)\n",
    "df_test['income'] = df_test['income'].replace({'>50K'}, 1, regex=True)\n"
   ]
  },
  {
   "cell_type": "code",
   "execution_count": 11,
   "id": "a895961d",
   "metadata": {},
   "outputs": [],
   "source": [
    "# identify \"?\" in workclass and occupation columns, replace it with \"Others\"\n",
    "df_train['workclass'] = df_train['workclass'].replace({r'\\?'}, 'Others', regex=True)\n",
    "df_test['workclass'] = df_test['workclass'].replace({r'\\?'}, 'Others', regex=True)\n",
    "df_train['occupation'] = df_train['occupation'].replace({r'\\?'}, 'Others', regex=True)\n",
    "df_test['occupation'] = df_test['occupation'].replace({r'\\?'}, 'Others', regex=True)"
   ]
  },
  {
   "cell_type": "markdown",
   "id": "3c98165b",
   "metadata": {},
   "source": [
    "### EXPLORATORY"
   ]
  },
  {
   "cell_type": "code",
   "execution_count": 12,
   "id": "2c542248",
   "metadata": {},
   "outputs": [
    {
     "data": {
      "text/plain": [
       "income  education            \n",
       "0        Advanced                  871\n",
       "         Bachelors                3133\n",
       "         Elementary/Secondary     1136\n",
       "         High-School             11699\n",
       "         Professional-School      1976\n",
       "         Some-college             5904\n",
       "1        Advanced                 1265\n",
       "         Bachelors                2221\n",
       "         Elementary/Secondary       62\n",
       "         High-School              1857\n",
       "         Professional-School      1049\n",
       "         Some-college             1387\n",
       "Name: education, dtype: int64"
      ]
     },
     "execution_count": 12,
     "metadata": {},
     "output_type": "execute_result"
    },
    {
     "data": {
      "image/png": "[encoded data removed]",
      "text/plain": [
       "<Figure size 576x432 with 1 Axes>"
      ]
     },
     "metadata": {
      "needs_background": "light"
     },
     "output_type": "display_data"
    }
   ],
   "source": [
    "education_income = df_train.groupby([\"income\",\"education\"]).education.count()\n",
    "fig, ax = plt.subplots(figsize=(8,6))\n",
    "education_plot =education_income.plot(kind='bar', ax=ax)\n",
    "education_income\n",
    "\n",
    "# Observation: Majority of Low income group are High-school  graduate \n",
    "# while majority of high-income has Bachelors and Advance"
   ]
  },
  {
   "cell_type": "code",
   "execution_count": 13,
   "id": "30e129b9",
   "metadata": {},
   "outputs": [
    {
     "data": {
      "text/plain": [
       "income  workclass     \n",
       "0        Gov-job           3009\n",
       "         Others            1645\n",
       "         Private          17733\n",
       "         Self-Employed     2311\n",
       "         Unemployed          21\n",
       "1        Gov-job           1341\n",
       "         Others             191\n",
       "         Private           4963\n",
       "         Self-Employed     1346\n",
       "Name: workclass, dtype: int64"
      ]
     },
     "execution_count": 13,
     "metadata": {},
     "output_type": "execute_result"
    },
    {
     "data": {
      "image/png": "[encoded data removed]",
      "text/plain": [
       "<Figure size 576x432 with 1 Axes>"
      ]
     },
     "metadata": {
      "needs_background": "light"
     },
     "output_type": "display_data"
    }
   ],
   "source": [
    "workclass_income = df_train.groupby([\"income\",\"workclass\"]).workclass.count()\n",
    "fig, ax = plt.subplots(figsize=(8,6))\n",
    "workclass_plot = workclass_income.plot(kind='bar', ax=ax)\n",
    "workclass_income\n",
    "\n",
    "# Observation: Most of high income group work in private workclass"
   ]
  },
  {
   "cell_type": "code",
   "execution_count": 14,
   "id": "af37f747",
   "metadata": {},
   "outputs": [
    {
     "name": "stderr",
     "output_type": "stream",
     "text": [
      "C:\\Users\\thuyd\\anaconda3\\lib\\site-packages\\seaborn\\_decorators.py:36: FutureWarning: Pass the following variable as a keyword arg: x. From version 0.12, the only valid positional argument will be `data`, and passing other arguments without an explicit keyword will result in an error or misinterpretation.\n",
      "  warnings.warn(\n"
     ]
    },
    {
     "data": {
      "text/plain": [
       "<AxesSubplot:xlabel='income', ylabel='count'>"
      ]
     },
     "execution_count": 14,
     "metadata": {},
     "output_type": "execute_result"
    },
    {
     "data": {
      "image/png": "[encoded data removed]",
      "text/plain": [
       "<Figure size 1080x1440 with 1 Axes>"
      ]
     },
     "metadata": {
      "needs_background": "light"
     },
     "output_type": "display_data"
    }
   ],
   "source": [
    "#A box plot of country on income \n",
    "\n",
    "plt.figure(figsize=(15,20))\n",
    "sns.countplot('income', hue='native_country', data=df_train)\n",
    "\n",
    "# Most of observations are from US and the trend we can see is more US people makes less than 50k. However, since\n",
    "# majority of observations are from US, this might not be helpful for further classification so I will \n",
    "# exclude this varibable out of our dataset\n",
    "\n",
    "# Side nots: Another reason to drop this columns is value in native_country in train and test data is slightly different\n",
    "# which leads to different in number of columns after dummified train and test. Different column size cause ML model cannot\n",
    "# run on test set so dropping this columns is better for further analysis."
   ]
  },
  {
   "cell_type": "code",
   "execution_count": 15,
   "id": "5b43c900",
   "metadata": {},
   "outputs": [],
   "source": [
    "#Drop native_country column\n",
    "df_train = df_train.drop(['native_country'], axis = 1)\n",
    "df_test = df_test.drop(['native_country'], axis = 1)"
   ]
  },
  {
   "cell_type": "code",
   "execution_count": 16,
   "id": "0e5d1dc2",
   "metadata": {},
   "outputs": [
    {
     "name": "stderr",
     "output_type": "stream",
     "text": [
      "C:\\Users\\thuyd\\anaconda3\\lib\\site-packages\\seaborn\\_decorators.py:36: FutureWarning: Pass the following variables as keyword args: x, y. From version 0.12, the only valid positional argument will be `data`, and passing other arguments without an explicit keyword will result in an error or misinterpretation.\n",
      "  warnings.warn(\n"
     ]
    },
    {
     "data": {
      "text/plain": [
       "<AxesSubplot:xlabel='income', ylabel='age'>"
      ]
     },
     "execution_count": 16,
     "metadata": {},
     "output_type": "execute_result"
    },
    {
     "data": {
      "image/png": "[encoded data removed]",
      "text/plain": [
       "<Figure size 432x288 with 1 Axes>"
      ]
     },
     "metadata": {
      "needs_background": "light"
     },
     "output_type": "display_data"
    }
   ],
   "source": [
    "#A box plot of age distribution on income \n",
    "sns.boxplot(df_train.income,df_train.age)\n",
    "\n",
    "# Majority of people who make >50K has age distributionMajority between 35-50 with the median age of \n",
    "# People who make <= 50K have age distribution between 25-45 with the median agae of 35."
   ]
  },
  {
   "cell_type": "code",
   "execution_count": 17,
   "id": "ef467968",
   "metadata": {},
   "outputs": [
    {
     "name": "stderr",
     "output_type": "stream",
     "text": [
      "C:\\Users\\thuyd\\anaconda3\\lib\\site-packages\\seaborn\\_decorators.py:36: FutureWarning: Pass the following variable as a keyword arg: x. From version 0.12, the only valid positional argument will be `data`, and passing other arguments without an explicit keyword will result in an error or misinterpretation.\n",
      "  warnings.warn(\n"
     ]
    },
    {
     "data": {
      "text/plain": [
       "Text(0.5, 1.0, 'Income based on marital status')"
      ]
     },
     "execution_count": 17,
     "metadata": {},
     "output_type": "execute_result"
    },
    {
     "data": {
      "image/png": "[encoded data removed]",
      "text/plain": [
       "<Figure size 432x288 with 1 Axes>"
      ]
     },
     "metadata": {
      "needs_background": "light"
     },
     "output_type": "display_data"
    }
   ],
   "source": [
    "#Marital status on income\n",
    "\n",
    "sns.countplot('marital_stat', hue='income', data=df_train)\n",
    "plt.title('Income based on marital status')\n",
    "\n",
    "# Based on the graph, married people make more income than single (>50K),"
   ]
  },
  {
   "cell_type": "code",
   "execution_count": 18,
   "id": "41af632a",
   "metadata": {},
   "outputs": [
    {
     "name": "stderr",
     "output_type": "stream",
     "text": [
      "C:\\Users\\thuyd\\anaconda3\\lib\\site-packages\\seaborn\\_decorators.py:36: FutureWarning: Pass the following variable as a keyword arg: x. From version 0.12, the only valid positional argument will be `data`, and passing other arguments without an explicit keyword will result in an error or misinterpretation.\n",
      "  warnings.warn(\n"
     ]
    },
    {
     "data": {
      "text/plain": [
       "Text(0.5, 1.0, 'Income based on marital status')"
      ]
     },
     "execution_count": 18,
     "metadata": {},
     "output_type": "execute_result"
    },
    {
     "data": {
      "image/png": "[encoded data removed]",
      "text/plain": [
       "<Figure size 432x288 with 1 Axes>"
      ]
     },
     "metadata": {
      "needs_background": "light"
     },
     "output_type": "display_data"
    }
   ],
   "source": [
    "#Country on income\n",
    "\n",
    "sns.countplot('marital_stat', hue='income', data=df_train)\n",
    "plt.title('Income based on marital status')\n",
    "\n",
    "# Based on the graph, married people make more income than single (>50K)"
   ]
  },
  {
   "cell_type": "code",
   "execution_count": 19,
   "id": "538ac550",
   "metadata": {},
   "outputs": [
    {
     "data": {
      "text/plain": [
       "<AxesSubplot:>"
      ]
     },
     "execution_count": 19,
     "metadata": {},
     "output_type": "execute_result"
    },
    {
     "data": {
      "image/png": "[encoded data removed]",
      "text/plain": [
       "<Figure size 864x576 with 2 Axes>"
      ]
     },
     "metadata": {
      "needs_background": "light"
     },
     "output_type": "display_data"
    }
   ],
   "source": [
    "# Heatmap\n",
    "\n",
    "corr = df_train[['age','fnlwgt','education_yrs','capital_gain','capital_loss','hours_per_week','income']].corr()\n",
    "sns.set(style='darkgrid')\n",
    "%matplotlib inline\n",
    "plt.figure(figsize=(12,8))\n",
    "sns.heatmap(corr, annot=True)\n",
    "\n",
    "# There is no strong correlations between independent variables which mitigate multicollinearity.\n",
    "# The strongest correlation can be found is between years of education and income"
   ]
  },
  {
   "cell_type": "markdown",
   "id": "ea59b3af",
   "metadata": {},
   "source": [
    "### MODEL FITTING"
   ]
  },
  {
   "cell_type": "code",
   "execution_count": 20,
   "id": "d1847a27",
   "metadata": {},
   "outputs": [
    {
     "data": {
      "text/html": [
       "<div>\n",
       "<style scoped>\n",
       "    .dataframe tbody tr th:only-of-type {\n",
       "        vertical-align: middle;\n",
       "    }\n",
       "\n",
       "    .dataframe tbody tr th {\n",
       "        vertical-align: top;\n",
       "    }\n",
       "\n",
       "    .dataframe thead th {\n",
       "        text-align: right;\n",
       "    }\n",
       "</style>\n",
       "<table border=\"1\" class=\"dataframe\">\n",
       "  <thead>\n",
       "    <tr style=\"text-align: right;\">\n",
       "      <th></th>\n",
       "      <th>age</th>\n",
       "      <th>workclass</th>\n",
       "      <th>fnlwgt</th>\n",
       "      <th>education</th>\n",
       "      <th>education_yrs</th>\n",
       "      <th>marital_stat</th>\n",
       "      <th>occupation</th>\n",
       "      <th>relationship</th>\n",
       "      <th>race</th>\n",
       "      <th>sex</th>\n",
       "      <th>capital_gain</th>\n",
       "      <th>capital_loss</th>\n",
       "      <th>hours_per_week</th>\n",
       "    </tr>\n",
       "  </thead>\n",
       "  <tbody>\n",
       "    <tr>\n",
       "      <th>0</th>\n",
       "      <td>50</td>\n",
       "      <td>Self-Employed</td>\n",
       "      <td>83311</td>\n",
       "      <td>Bachelors</td>\n",
       "      <td>13</td>\n",
       "      <td>Married</td>\n",
       "      <td>Exec-managerial</td>\n",
       "      <td>Husband</td>\n",
       "      <td>White</td>\n",
       "      <td>Male</td>\n",
       "      <td>0</td>\n",
       "      <td>0</td>\n",
       "      <td>13</td>\n",
       "    </tr>\n",
       "    <tr>\n",
       "      <th>1</th>\n",
       "      <td>38</td>\n",
       "      <td>Private</td>\n",
       "      <td>215646</td>\n",
       "      <td>High-School</td>\n",
       "      <td>9</td>\n",
       "      <td>Single</td>\n",
       "      <td>Handlers-cleaners</td>\n",
       "      <td>Not-in-family</td>\n",
       "      <td>White</td>\n",
       "      <td>Male</td>\n",
       "      <td>0</td>\n",
       "      <td>0</td>\n",
       "      <td>40</td>\n",
       "    </tr>\n",
       "    <tr>\n",
       "      <th>2</th>\n",
       "      <td>53</td>\n",
       "      <td>Private</td>\n",
       "      <td>234721</td>\n",
       "      <td>High-School</td>\n",
       "      <td>7</td>\n",
       "      <td>Married</td>\n",
       "      <td>Handlers-cleaners</td>\n",
       "      <td>Husband</td>\n",
       "      <td>Black</td>\n",
       "      <td>Male</td>\n",
       "      <td>0</td>\n",
       "      <td>0</td>\n",
       "      <td>40</td>\n",
       "    </tr>\n",
       "    <tr>\n",
       "      <th>3</th>\n",
       "      <td>28</td>\n",
       "      <td>Private</td>\n",
       "      <td>338409</td>\n",
       "      <td>Bachelors</td>\n",
       "      <td>13</td>\n",
       "      <td>Married</td>\n",
       "      <td>Prof-specialty</td>\n",
       "      <td>Wife</td>\n",
       "      <td>Black</td>\n",
       "      <td>Female</td>\n",
       "      <td>0</td>\n",
       "      <td>0</td>\n",
       "      <td>40</td>\n",
       "    </tr>\n",
       "    <tr>\n",
       "      <th>4</th>\n",
       "      <td>37</td>\n",
       "      <td>Private</td>\n",
       "      <td>284582</td>\n",
       "      <td>Advanced</td>\n",
       "      <td>14</td>\n",
       "      <td>Married</td>\n",
       "      <td>Exec-managerial</td>\n",
       "      <td>Wife</td>\n",
       "      <td>White</td>\n",
       "      <td>Female</td>\n",
       "      <td>0</td>\n",
       "      <td>0</td>\n",
       "      <td>40</td>\n",
       "    </tr>\n",
       "  </tbody>\n",
       "</table>\n",
       "</div>"
      ],
      "text/plain": [
       "   age       workclass  fnlwgt     education  education_yrs marital_stat  \\\n",
       "0   50   Self-Employed   83311     Bachelors             13      Married   \n",
       "1   38         Private  215646   High-School              9       Single   \n",
       "2   53         Private  234721   High-School              7      Married   \n",
       "3   28         Private  338409     Bachelors             13      Married   \n",
       "4   37         Private  284582      Advanced             14      Married   \n",
       "\n",
       "           occupation    relationship    race      sex  capital_gain  \\\n",
       "0     Exec-managerial         Husband   White     Male             0   \n",
       "1   Handlers-cleaners   Not-in-family   White     Male             0   \n",
       "2   Handlers-cleaners         Husband   Black     Male             0   \n",
       "3      Prof-specialty            Wife   Black   Female             0   \n",
       "4     Exec-managerial            Wife   White   Female             0   \n",
       "\n",
       "   capital_loss  hours_per_week  \n",
       "0             0              13  \n",
       "1             0              40  \n",
       "2             0              40  \n",
       "3             0              40  \n",
       "4             0              40  "
      ]
     },
     "execution_count": 20,
     "metadata": {},
     "output_type": "execute_result"
    }
   ],
   "source": [
    "# spling df_train to x_train, y_train and df_test to x_test, y_test\n",
    "\n",
    "x_train_ori = df_train.drop(['income'], axis = 1)\n",
    "y_train = df_train['income']\n",
    "\n",
    "x_test_ori = df_test.drop(['income'], axis = 1)\n",
    "y_test = df_test['income']\n",
    "x_train_ori.head()"
   ]
  },
  {
   "cell_type": "code",
   "execution_count": 21,
   "id": "d39eeef3",
   "metadata": {},
   "outputs": [],
   "source": [
    "# Getting dummy from x_train and x_test\n",
    "\n",
    "x_train = pd.get_dummies(x_train_ori,columns = ['workclass', 'education', 'marital_stat', 'occupation', 'relationship', 'race', 'sex'],drop_first=True)\n",
    "x_test = pd.get_dummies(x_test_ori,columns = ['workclass', 'education', 'marital_stat', 'occupation', 'relationship', 'race', 'sex'],drop_first=True)"
   ]
  },
  {
   "cell_type": "code",
   "execution_count": 22,
   "id": "9da7a7b1",
   "metadata": {},
   "outputs": [
    {
     "data": {
      "text/html": [
       "<div>\n",
       "<style scoped>\n",
       "    .dataframe tbody tr th:only-of-type {\n",
       "        vertical-align: middle;\n",
       "    }\n",
       "\n",
       "    .dataframe tbody tr th {\n",
       "        vertical-align: top;\n",
       "    }\n",
       "\n",
       "    .dataframe thead th {\n",
       "        text-align: right;\n",
       "    }\n",
       "</style>\n",
       "<table border=\"1\" class=\"dataframe\">\n",
       "  <thead>\n",
       "    <tr style=\"text-align: right;\">\n",
       "      <th></th>\n",
       "      <th>age</th>\n",
       "      <th>fnlwgt</th>\n",
       "      <th>education_yrs</th>\n",
       "      <th>capital_gain</th>\n",
       "      <th>capital_loss</th>\n",
       "      <th>hours_per_week</th>\n",
       "      <th>workclass_ Others</th>\n",
       "      <th>workclass_ Private</th>\n",
       "      <th>workclass_ Self-Employed</th>\n",
       "      <th>workclass_ Unemployed</th>\n",
       "      <th>...</th>\n",
       "      <th>relationship_ Not-in-family</th>\n",
       "      <th>relationship_ Other-relative</th>\n",
       "      <th>relationship_ Own-child</th>\n",
       "      <th>relationship_ Unmarried</th>\n",
       "      <th>relationship_ Wife</th>\n",
       "      <th>race_ Asian-Pac-Islander</th>\n",
       "      <th>race_ Black</th>\n",
       "      <th>race_ Other</th>\n",
       "      <th>race_ White</th>\n",
       "      <th>sex_ Male</th>\n",
       "    </tr>\n",
       "  </thead>\n",
       "  <tbody>\n",
       "    <tr>\n",
       "      <th>0</th>\n",
       "      <td>0.837097</td>\n",
       "      <td>-1.008742</td>\n",
       "      <td>1.134779</td>\n",
       "      <td>-0.145914</td>\n",
       "      <td>-0.216663</td>\n",
       "      <td>-2.222120</td>\n",
       "      <td>-0.244454</td>\n",
       "      <td>-1.516869</td>\n",
       "      <td>2.811312</td>\n",
       "      <td>-0.025404</td>\n",
       "      <td>...</td>\n",
       "      <td>-0.585105</td>\n",
       "      <td>-0.176253</td>\n",
       "      <td>-0.429354</td>\n",
       "      <td>-0.344038</td>\n",
       "      <td>-0.224930</td>\n",
       "      <td>-0.181555</td>\n",
       "      <td>-0.325774</td>\n",
       "      <td>-0.091613</td>\n",
       "      <td>0.413027</td>\n",
       "      <td>0.703087</td>\n",
       "    </tr>\n",
       "    <tr>\n",
       "      <th>1</th>\n",
       "      <td>-0.042640</td>\n",
       "      <td>0.245046</td>\n",
       "      <td>-0.420027</td>\n",
       "      <td>-0.145914</td>\n",
       "      <td>-0.216663</td>\n",
       "      <td>-0.035430</td>\n",
       "      <td>-0.244454</td>\n",
       "      <td>0.659253</td>\n",
       "      <td>-0.355706</td>\n",
       "      <td>-0.025404</td>\n",
       "      <td>...</td>\n",
       "      <td>1.709094</td>\n",
       "      <td>-0.176253</td>\n",
       "      <td>-0.429354</td>\n",
       "      <td>-0.344038</td>\n",
       "      <td>-0.224930</td>\n",
       "      <td>-0.181555</td>\n",
       "      <td>-0.325774</td>\n",
       "      <td>-0.091613</td>\n",
       "      <td>0.413027</td>\n",
       "      <td>0.703087</td>\n",
       "    </tr>\n",
       "    <tr>\n",
       "      <th>2</th>\n",
       "      <td>1.057031</td>\n",
       "      <td>0.425770</td>\n",
       "      <td>-1.197429</td>\n",
       "      <td>-0.145914</td>\n",
       "      <td>-0.216663</td>\n",
       "      <td>-0.035430</td>\n",
       "      <td>-0.244454</td>\n",
       "      <td>0.659253</td>\n",
       "      <td>-0.355706</td>\n",
       "      <td>-0.025404</td>\n",
       "      <td>...</td>\n",
       "      <td>-0.585105</td>\n",
       "      <td>-0.176253</td>\n",
       "      <td>-0.429354</td>\n",
       "      <td>-0.344038</td>\n",
       "      <td>-0.224930</td>\n",
       "      <td>-0.181555</td>\n",
       "      <td>3.069615</td>\n",
       "      <td>-0.091613</td>\n",
       "      <td>-2.421148</td>\n",
       "      <td>0.703087</td>\n",
       "    </tr>\n",
       "    <tr>\n",
       "      <th>3</th>\n",
       "      <td>-0.775755</td>\n",
       "      <td>1.408146</td>\n",
       "      <td>1.134779</td>\n",
       "      <td>-0.145914</td>\n",
       "      <td>-0.216663</td>\n",
       "      <td>-0.035430</td>\n",
       "      <td>-0.244454</td>\n",
       "      <td>0.659253</td>\n",
       "      <td>-0.355706</td>\n",
       "      <td>-0.025404</td>\n",
       "      <td>...</td>\n",
       "      <td>-0.585105</td>\n",
       "      <td>-0.176253</td>\n",
       "      <td>-0.429354</td>\n",
       "      <td>-0.344038</td>\n",
       "      <td>4.445819</td>\n",
       "      <td>-0.181555</td>\n",
       "      <td>3.069615</td>\n",
       "      <td>-0.091613</td>\n",
       "      <td>-2.421148</td>\n",
       "      <td>-1.422298</td>\n",
       "    </tr>\n",
       "    <tr>\n",
       "      <th>4</th>\n",
       "      <td>-0.115952</td>\n",
       "      <td>0.898170</td>\n",
       "      <td>1.523480</td>\n",
       "      <td>-0.145914</td>\n",
       "      <td>-0.216663</td>\n",
       "      <td>-0.035430</td>\n",
       "      <td>-0.244454</td>\n",
       "      <td>0.659253</td>\n",
       "      <td>-0.355706</td>\n",
       "      <td>-0.025404</td>\n",
       "      <td>...</td>\n",
       "      <td>-0.585105</td>\n",
       "      <td>-0.176253</td>\n",
       "      <td>-0.429354</td>\n",
       "      <td>-0.344038</td>\n",
       "      <td>4.445819</td>\n",
       "      <td>-0.181555</td>\n",
       "      <td>-0.325774</td>\n",
       "      <td>-0.091613</td>\n",
       "      <td>0.413027</td>\n",
       "      <td>-1.422298</td>\n",
       "    </tr>\n",
       "    <tr>\n",
       "      <th>...</th>\n",
       "      <td>...</td>\n",
       "      <td>...</td>\n",
       "      <td>...</td>\n",
       "      <td>...</td>\n",
       "      <td>...</td>\n",
       "      <td>...</td>\n",
       "      <td>...</td>\n",
       "      <td>...</td>\n",
       "      <td>...</td>\n",
       "      <td>...</td>\n",
       "      <td>...</td>\n",
       "      <td>...</td>\n",
       "      <td>...</td>\n",
       "      <td>...</td>\n",
       "      <td>...</td>\n",
       "      <td>...</td>\n",
       "      <td>...</td>\n",
       "      <td>...</td>\n",
       "      <td>...</td>\n",
       "      <td>...</td>\n",
       "      <td>...</td>\n",
       "    </tr>\n",
       "    <tr>\n",
       "      <th>32555</th>\n",
       "      <td>-0.849066</td>\n",
       "      <td>0.639710</td>\n",
       "      <td>0.746077</td>\n",
       "      <td>-0.145914</td>\n",
       "      <td>-0.216663</td>\n",
       "      <td>-0.197407</td>\n",
       "      <td>-0.244454</td>\n",
       "      <td>0.659253</td>\n",
       "      <td>-0.355706</td>\n",
       "      <td>-0.025404</td>\n",
       "      <td>...</td>\n",
       "      <td>-0.585105</td>\n",
       "      <td>-0.176253</td>\n",
       "      <td>-0.429354</td>\n",
       "      <td>-0.344038</td>\n",
       "      <td>4.445819</td>\n",
       "      <td>-0.181555</td>\n",
       "      <td>-0.325774</td>\n",
       "      <td>-0.091613</td>\n",
       "      <td>0.413027</td>\n",
       "      <td>-1.422298</td>\n",
       "    </tr>\n",
       "    <tr>\n",
       "      <th>32556</th>\n",
       "      <td>0.103982</td>\n",
       "      <td>-0.335466</td>\n",
       "      <td>-0.420027</td>\n",
       "      <td>-0.145914</td>\n",
       "      <td>-0.216663</td>\n",
       "      <td>-0.035430</td>\n",
       "      <td>-0.244454</td>\n",
       "      <td>0.659253</td>\n",
       "      <td>-0.355706</td>\n",
       "      <td>-0.025404</td>\n",
       "      <td>...</td>\n",
       "      <td>-0.585105</td>\n",
       "      <td>-0.176253</td>\n",
       "      <td>-0.429354</td>\n",
       "      <td>-0.344038</td>\n",
       "      <td>-0.224930</td>\n",
       "      <td>-0.181555</td>\n",
       "      <td>-0.325774</td>\n",
       "      <td>-0.091613</td>\n",
       "      <td>0.413027</td>\n",
       "      <td>0.703087</td>\n",
       "    </tr>\n",
       "    <tr>\n",
       "      <th>32557</th>\n",
       "      <td>1.423589</td>\n",
       "      <td>-0.358811</td>\n",
       "      <td>-0.420027</td>\n",
       "      <td>-0.145914</td>\n",
       "      <td>-0.216663</td>\n",
       "      <td>-0.035430</td>\n",
       "      <td>-0.244454</td>\n",
       "      <td>0.659253</td>\n",
       "      <td>-0.355706</td>\n",
       "      <td>-0.025404</td>\n",
       "      <td>...</td>\n",
       "      <td>-0.585105</td>\n",
       "      <td>-0.176253</td>\n",
       "      <td>-0.429354</td>\n",
       "      <td>2.906654</td>\n",
       "      <td>-0.224930</td>\n",
       "      <td>-0.181555</td>\n",
       "      <td>-0.325774</td>\n",
       "      <td>-0.091613</td>\n",
       "      <td>0.413027</td>\n",
       "      <td>-1.422298</td>\n",
       "    </tr>\n",
       "    <tr>\n",
       "      <th>32558</th>\n",
       "      <td>-1.215624</td>\n",
       "      <td>0.110927</td>\n",
       "      <td>-0.420027</td>\n",
       "      <td>-0.145914</td>\n",
       "      <td>-0.216663</td>\n",
       "      <td>-1.655200</td>\n",
       "      <td>-0.244454</td>\n",
       "      <td>0.659253</td>\n",
       "      <td>-0.355706</td>\n",
       "      <td>-0.025404</td>\n",
       "      <td>...</td>\n",
       "      <td>-0.585105</td>\n",
       "      <td>-0.176253</td>\n",
       "      <td>2.329082</td>\n",
       "      <td>-0.344038</td>\n",
       "      <td>-0.224930</td>\n",
       "      <td>-0.181555</td>\n",
       "      <td>-0.325774</td>\n",
       "      <td>-0.091613</td>\n",
       "      <td>0.413027</td>\n",
       "      <td>0.703087</td>\n",
       "    </tr>\n",
       "    <tr>\n",
       "      <th>32559</th>\n",
       "      <td>0.983720</td>\n",
       "      <td>0.929862</td>\n",
       "      <td>-0.420027</td>\n",
       "      <td>1.888401</td>\n",
       "      <td>-0.216663</td>\n",
       "      <td>-0.035430</td>\n",
       "      <td>-0.244454</td>\n",
       "      <td>-1.516869</td>\n",
       "      <td>2.811312</td>\n",
       "      <td>-0.025404</td>\n",
       "      <td>...</td>\n",
       "      <td>-0.585105</td>\n",
       "      <td>-0.176253</td>\n",
       "      <td>-0.429354</td>\n",
       "      <td>-0.344038</td>\n",
       "      <td>4.445819</td>\n",
       "      <td>-0.181555</td>\n",
       "      <td>-0.325774</td>\n",
       "      <td>-0.091613</td>\n",
       "      <td>0.413027</td>\n",
       "      <td>-1.422298</td>\n",
       "    </tr>\n",
       "  </tbody>\n",
       "</table>\n",
       "<p>32560 rows × 40 columns</p>\n",
       "</div>"
      ],
      "text/plain": [
       "            age    fnlwgt  education_yrs  capital_gain  capital_loss  \\\n",
       "0      0.837097 -1.008742       1.134779     -0.145914     -0.216663   \n",
       "1     -0.042640  0.245046      -0.420027     -0.145914     -0.216663   \n",
       "2      1.057031  0.425770      -1.197429     -0.145914     -0.216663   \n",
       "3     -0.775755  1.408146       1.134779     -0.145914     -0.216663   \n",
       "4     -0.115952  0.898170       1.523480     -0.145914     -0.216663   \n",
       "...         ...       ...            ...           ...           ...   \n",
       "32555 -0.849066  0.639710       0.746077     -0.145914     -0.216663   \n",
       "32556  0.103982 -0.335466      -0.420027     -0.145914     -0.216663   \n",
       "32557  1.423589 -0.358811      -0.420027     -0.145914     -0.216663   \n",
       "32558 -1.215624  0.110927      -0.420027     -0.145914     -0.216663   \n",
       "32559  0.983720  0.929862      -0.420027      1.888401     -0.216663   \n",
       "\n",
       "       hours_per_week  workclass_ Others  workclass_ Private  \\\n",
       "0           -2.222120          -0.244454           -1.516869   \n",
       "1           -0.035430          -0.244454            0.659253   \n",
       "2           -0.035430          -0.244454            0.659253   \n",
       "3           -0.035430          -0.244454            0.659253   \n",
       "4           -0.035430          -0.244454            0.659253   \n",
       "...               ...                ...                 ...   \n",
       "32555       -0.197407          -0.244454            0.659253   \n",
       "32556       -0.035430          -0.244454            0.659253   \n",
       "32557       -0.035430          -0.244454            0.659253   \n",
       "32558       -1.655200          -0.244454            0.659253   \n",
       "32559       -0.035430          -0.244454           -1.516869   \n",
       "\n",
       "       workclass_ Self-Employed  workclass_ Unemployed  ...  \\\n",
       "0                      2.811312              -0.025404  ...   \n",
       "1                     -0.355706              -0.025404  ...   \n",
       "2                     -0.355706              -0.025404  ...   \n",
       "3                     -0.355706              -0.025404  ...   \n",
       "4                     -0.355706              -0.025404  ...   \n",
       "...                         ...                    ...  ...   \n",
       "32555                 -0.355706              -0.025404  ...   \n",
       "32556                 -0.355706              -0.025404  ...   \n",
       "32557                 -0.355706              -0.025404  ...   \n",
       "32558                 -0.355706              -0.025404  ...   \n",
       "32559                  2.811312              -0.025404  ...   \n",
       "\n",
       "       relationship_ Not-in-family  relationship_ Other-relative  \\\n",
       "0                        -0.585105                     -0.176253   \n",
       "1                         1.709094                     -0.176253   \n",
       "2                        -0.585105                     -0.176253   \n",
       "3                        -0.585105                     -0.176253   \n",
       "4                        -0.585105                     -0.176253   \n",
       "...                            ...                           ...   \n",
       "32555                    -0.585105                     -0.176253   \n",
       "32556                    -0.585105                     -0.176253   \n",
       "32557                    -0.585105                     -0.176253   \n",
       "32558                    -0.585105                     -0.176253   \n",
       "32559                    -0.585105                     -0.176253   \n",
       "\n",
       "       relationship_ Own-child  relationship_ Unmarried  relationship_ Wife  \\\n",
       "0                    -0.429354                -0.344038           -0.224930   \n",
       "1                    -0.429354                -0.344038           -0.224930   \n",
       "2                    -0.429354                -0.344038           -0.224930   \n",
       "3                    -0.429354                -0.344038            4.445819   \n",
       "4                    -0.429354                -0.344038            4.445819   \n",
       "...                        ...                      ...                 ...   \n",
       "32555                -0.429354                -0.344038            4.445819   \n",
       "32556                -0.429354                -0.344038           -0.224930   \n",
       "32557                -0.429354                 2.906654           -0.224930   \n",
       "32558                 2.329082                -0.344038           -0.224930   \n",
       "32559                -0.429354                -0.344038            4.445819   \n",
       "\n",
       "       race_ Asian-Pac-Islander  race_ Black  race_ Other  race_ White  \\\n",
       "0                     -0.181555    -0.325774    -0.091613     0.413027   \n",
       "1                     -0.181555    -0.325774    -0.091613     0.413027   \n",
       "2                     -0.181555     3.069615    -0.091613    -2.421148   \n",
       "3                     -0.181555     3.069615    -0.091613    -2.421148   \n",
       "4                     -0.181555    -0.325774    -0.091613     0.413027   \n",
       "...                         ...          ...          ...          ...   \n",
       "32555                 -0.181555    -0.325774    -0.091613     0.413027   \n",
       "32556                 -0.181555    -0.325774    -0.091613     0.413027   \n",
       "32557                 -0.181555    -0.325774    -0.091613     0.413027   \n",
       "32558                 -0.181555    -0.325774    -0.091613     0.413027   \n",
       "32559                 -0.181555    -0.325774    -0.091613     0.413027   \n",
       "\n",
       "       sex_ Male  \n",
       "0       0.703087  \n",
       "1       0.703087  \n",
       "2       0.703087  \n",
       "3      -1.422298  \n",
       "4      -1.422298  \n",
       "...          ...  \n",
       "32555  -1.422298  \n",
       "32556   0.703087  \n",
       "32557  -1.422298  \n",
       "32558   0.703087  \n",
       "32559  -1.422298  \n",
       "\n",
       "[32560 rows x 40 columns]"
      ]
     },
     "execution_count": 22,
     "metadata": {},
     "output_type": "execute_result"
    }
   ],
   "source": [
    "# Normalize the dataset for better fit\n",
    "scaler = StandardScaler()\n",
    "scaler.fit(x_train)\n",
    "x_train_scaled = scaler.transform(x_train)\n",
    "x_train_scaled\n",
    "scaler.fit(x_test)\n",
    "x_test_scaled = scaler.transform(x_test)\n",
    "x_train_scaled = pd.DataFrame(x_train_scaled, columns=x_train.columns)\n",
    "x_test_scaled = pd.DataFrame(x_test_scaled, columns=x_test.columns)\n",
    "x_train_scaled"
   ]
  },
  {
   "cell_type": "markdown",
   "id": "c89935e5",
   "metadata": {},
   "source": [
    "### RANDOM FOREST CLASSIFIER"
   ]
  },
  {
   "cell_type": "code",
   "execution_count": 23,
   "id": "2c18bd66",
   "metadata": {},
   "outputs": [
    {
     "name": "stdout",
     "output_type": "stream",
     "text": [
      "Accuracy: 0.8483508384005897\n"
     ]
    }
   ],
   "source": [
    "# Random Forest Classifier\n",
    "RFC_Model = RandomForestClassifier(n_estimators = 100)\n",
    "RFC_Model.fit(x_train_scaled,y_train)\n",
    "RFC_Predict = RFC_Model.predict(x_test_scaled)\n",
    "RFC_Accuracy = accuracy_score(y_test, RFC_Predict)\n",
    "print(\"Accuracy: \" + str(RFC_Accuracy))\n",
    "\n",
    "# Accuracy score of 84.85% is a high score"
   ]
  },
  {
   "cell_type": "code",
   "execution_count": 24,
   "id": "dca8ef17",
   "metadata": {},
   "outputs": [
    {
     "name": "stdout",
     "output_type": "stream",
     "text": [
      "[[11493   942]\n",
      " [ 1527  2319]]\n",
      "              precision    recall  f1-score   support\n",
      "\n",
      "           0       0.88      0.92      0.90     12435\n",
      "           1       0.71      0.60      0.65      3846\n",
      "\n",
      "    accuracy                           0.85     16281\n",
      "   macro avg       0.80      0.76      0.78     16281\n",
      "weighted avg       0.84      0.85      0.84     16281\n",
      "\n"
     ]
    }
   ],
   "source": [
    "# Confusion matrix\n",
    "print(confusion_matrix(y_test,RFC_Predict))\n",
    "print(classification_report(y_test,RFC_Predict))\n"
   ]
  },
  {
   "cell_type": "code",
   "execution_count": 25,
   "id": "b945357f",
   "metadata": {},
   "outputs": [
    {
     "name": "stderr",
     "output_type": "stream",
     "text": [
      "No handles with labels found to put in legend.\n"
     ]
    },
    {
     "data": {
      "image/png": "[encoded data removed]",
      "text/plain": [
       "<Figure size 864x720 with 1 Axes>"
      ]
     },
     "metadata": {
      "needs_background": "light"
     },
     "output_type": "display_data"
    }
   ],
   "source": [
    "# Feature important scores\n",
    "feature_imp = pd.Series(RFC_Model.feature_importances_,index=x_train_scaled.columns).sort_values(ascending=False)\n",
    "feature_imp\n",
    "%matplotlib inline\n",
    "plt.figure(figsize=(12,10))\n",
    "\n",
    "# Creating a bar plot\n",
    "sns.barplot(x=feature_imp, y=feature_imp.index)\n",
    "# Add labels to your graph\n",
    "plt.xlabel('Feature Importance Score')\n",
    "plt.ylabel('Features')\n",
    "plt.title(\"Visualizing Important Features\")\n",
    "plt.legend()\n",
    "plt.show()"
   ]
  },
  {
   "cell_type": "markdown",
   "id": "47aa9d7b",
   "metadata": {},
   "source": [
    "### Analysis\n",
    "From the confustion matrix, Type 1 error: false positive rate (people who is wrongly classified at making more than 50K) is 5.77%. (909/ total cases)\n",
    "\n",
    "Our type 2 error: False negative rate is 11.9% (1534/total cases)\n",
    "\n",
    "In our cases, type 1 error is more dangerous as we dont want to falsely classify people with low income as high so luckily, the rate of 5.8% is relatively low\n",
    "\n",
    "From the important visualization, fnlwgt attribute has the highest impact on the classification on whether a person makes high income or not"
   ]
  },
  {
   "cell_type": "markdown",
   "id": "9816e443",
   "metadata": {},
   "source": [
    "### LOGISTIC REGRESSION"
   ]
  },
  {
   "cell_type": "code",
   "execution_count": 26,
   "id": "e7b1c18c",
   "metadata": {},
   "outputs": [
    {
     "name": "stdout",
     "output_type": "stream",
     "text": [
      "Model Accuracy: 0.8531416989128432\n"
     ]
    }
   ],
   "source": [
    "LR_Model = LogisticRegression()\n",
    "LR_Model.fit(x_train_scaled, y_train)\n",
    "LR_Predict = LR_Model.predict(x_test_scaled)\n",
    "LR_Accuracy = accuracy_score(y_test, LR_Predict)\n",
    "print(\"Model Accuracy: \" + str(LR_Accuracy))"
   ]
  },
  {
   "cell_type": "code",
   "execution_count": 27,
   "id": "359d1095",
   "metadata": {},
   "outputs": [
    {
     "name": "stdout",
     "output_type": "stream",
     "text": [
      "Optimization terminated successfully.\n",
      "         Current function value: 0.416734\n",
      "         Iterations 9\n",
      "                           Logit Regression Results                           \n",
      "==============================================================================\n",
      "Dep. Variable:                 income   No. Observations:                16281\n",
      "Model:                          Logit   Df Residuals:                    16241\n",
      "Method:                           MLE   Df Model:                           39\n",
      "Date:                Mon, 21 Feb 2022   Pseudo R-squ.:                  0.2377\n",
      "Time:                        19:50:07   Log-Likelihood:                -6784.8\n",
      "converged:                       True   LL-Null:                       -8900.7\n",
      "Covariance Type:            nonrobust   LLR p-value:                     0.000\n",
      "===================================================================================================\n",
      "                                      coef    std err          z      P>|z|      [0.025      0.975]\n",
      "---------------------------------------------------------------------------------------------------\n",
      "age                                 0.1912      0.026      7.362      0.000       0.140       0.242\n",
      "fnlwgt                              0.0705      0.022      3.238      0.001       0.028       0.113\n",
      "education_yrs                       0.6041      0.074      8.156      0.000       0.459       0.749\n",
      "capital_gain                        8.9312      0.165     54.150      0.000       8.608       9.254\n",
      "capital_loss                        0.2439      0.019     12.699      0.000       0.206       0.282\n",
      "hours_per_week                      0.2269      0.024      9.539      0.000       0.180       0.274\n",
      "workclass_ Others                  -0.0516      0.537     -0.096      0.923      -1.104       1.001\n",
      "workclass_ Private                  0.0138      0.031      0.444      0.657      -0.047       0.074\n",
      "workclass_ Self-Employed           -0.0673      0.028     -2.374      0.018      -0.123      -0.012\n",
      "workclass_ Unemployed               0.0119      0.023      0.517      0.605      -0.033       0.057\n",
      "education_ Bachelors               -0.0434      0.036     -1.193      0.233      -0.115       0.028\n",
      "education_ Elementary/Secondary     0.0787      0.065      1.211      0.226      -0.049       0.206\n",
      "education_ High-School             -0.0021      0.090     -0.024      0.981      -0.179       0.174\n",
      "education_ Professional-School     -0.0381      0.035     -1.083      0.279      -0.107       0.031\n",
      "education_ Some-college             0.0182      0.063      0.289      0.772      -0.105       0.141\n",
      "marital_stat_ Single               -0.3486      0.081     -4.323      0.000      -0.507      -0.191\n",
      "occupation_ Armed-Forces            0.0403      0.022      1.864      0.062      -0.002       0.083\n",
      "occupation_ Craft-repair           -0.0394      0.031     -1.270      0.204      -0.100       0.021\n",
      "occupation_ Exec-managerial         0.2177      0.030      7.290      0.000       0.159       0.276\n",
      "occupation_ Farming-fishing        -0.1230      0.027     -4.515      0.000      -0.176      -0.070\n",
      "occupation_ Handlers-cleaners      -0.0779      0.029     -2.728      0.006      -0.134      -0.022\n",
      "occupation_ Machine-op-inspct      -0.0880      0.029     -3.085      0.002      -0.144      -0.032\n",
      "occupation_ Other-service          -0.1180      0.033     -3.532      0.000      -0.183      -0.053\n",
      "occupation_ Others                 -0.0451      0.537     -0.084      0.933      -1.098       1.008\n",
      "occupation_ Priv-house-serv         0.0008      0.027      0.029      0.976      -0.053       0.054\n",
      "occupation_ Prof-specialty          0.1522      0.031      4.917      0.000       0.092       0.213\n",
      "occupation_ Protective-serv         0.0233      0.022      1.062      0.288      -0.020       0.066\n",
      "occupation_ Sales                   0.0614      0.030      2.050      0.040       0.003       0.120\n",
      "occupation_ Tech-support            0.0346      0.023      1.482      0.138      -0.011       0.080\n",
      "occupation_ Transport-moving       -0.0401      0.025     -1.595      0.111      -0.089       0.009\n",
      "relationship_ Not-in-family        -0.4806      0.074     -6.516      0.000      -0.625      -0.336\n",
      "relationship_ Other-relative       -0.1635      0.035     -4.662      0.000      -0.232      -0.095\n",
      "relationship_ Own-child            -0.3128      0.064     -4.858      0.000      -0.439      -0.187\n",
      "relationship_ Unmarried            -0.3035      0.056     -5.407      0.000      -0.413      -0.193\n",
      "relationship_ Wife                  0.0771      0.024      3.185      0.001       0.030       0.124\n",
      "race_ Asian-Pac-Islander            0.0227      0.045      0.507      0.612      -0.065       0.111\n",
      "race_ Black                        -0.0045      0.073     -0.061      0.951      -0.148       0.139\n",
      "race_ Other                         0.0356      0.031      1.157      0.247      -0.025       0.096\n",
      "race_ White                         0.0690      0.083      0.834      0.404      -0.093       0.231\n",
      "sex_ Male                           0.1151      0.035      3.328      0.001       0.047       0.183\n",
      "===================================================================================================\n"
     ]
    }
   ],
   "source": [
    "result = sm.Logit(y_test, x_test_scaled).fit()\n",
    "print(result.summary())"
   ]
  },
  {
   "cell_type": "code",
   "execution_count": 28,
   "id": "fdb812bb",
   "metadata": {},
   "outputs": [
    {
     "name": "stdout",
     "output_type": "stream",
     "text": [
      "[[11557   878]\n",
      " [ 1513  2333]]\n"
     ]
    }
   ],
   "source": [
    "cnf_matrix = confusion_matrix(y_test, LR_Predict)\n",
    "print(cnf_matrix)"
   ]
  },
  {
   "cell_type": "markdown",
   "id": "1f4ba281",
   "metadata": {},
   "source": [
    "### Analysis\n",
    "Logistic Regression has higher accuracy score than Random Forest Classifier (85.3% vs 84.8%)\n",
    "\n",
    "Comparing confusion matrix, the type 1 error of LR is 5.4% which is lower than Random Forest Classifier.\n",
    "\n",
    "Therefore, we will choose LR between the 2 models."
   ]
  }
 ],
 "metadata": {
  "kernelspec": {
   "display_name": "Python 3",
   "language": "python",
   "name": "python3"
  },
  "language_info": {
   "codemirror_mode": {
    "name": "ipython",
    "version": 3
   },
   "file_extension": ".py",
   "mimetype": "text/x-python",
   "name": "python",
   "nbconvert_exporter": "python",
   "pygments_lexer": "ipython3",
   "version": "3.8.8"
  }
 },
 "nbformat": 4,
 "nbformat_minor": 5
}
